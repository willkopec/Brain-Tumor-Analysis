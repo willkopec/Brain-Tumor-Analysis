{
 "cells": [
  {
   "cell_type": "code",
   "execution_count": null,
   "metadata": {
    "id": "DReveYDjHBIF"
   },
   "outputs": [],
   "source": [
    "####################################\n",
    "# Connects to google drive\n",
    "from google.colab import drive\n",
    "drive.mount('/content/gdrive')"
   ]
  },
  {
   "cell_type": "code",
   "execution_count": null,
   "metadata": {
    "id": "p0gtFDAkHr_I"
   },
   "outputs": [],
   "source": [
    "#########################\n",
    "# Load Images : [FILL NAME] \n",
    "#\n",
    "# Description of Preprocessing Method\n",
    "# - \n",
    "# -\n",
    "# -\n",
    "#\n",
    "#\n",
    "# Loads in all the brain scans and crops them where the mask is\n",
    "# Stores the data in Preprocessed_Data/[FILL NAME] as a pickled dictionary with keys 1, 2, 3\n",
    "# and the the corresponding values are all the 224 x 224 images stored as a numpy array in a list\n",
    "# \n",
    "# 1 for meningioma, 2 for glioma, 3 for pituitary tumor\n",
    "\n",
    "import h5py\n",
    "import os\n",
    "import numpy as np\n",
    "import pickle\n",
    "\n",
    "import matplotlib.pyplot as plt\n",
    "\n",
    "\n",
    "RAW_DATA_PATH = '/content/gdrive/MyDrive/CS 415 Project/Raw Data'\n",
    "FEATURE_PATH = '/content/gdrive/MyDrive/CS 415 Project/ FILL NAME .pk1'\n",
    "\n"
   ]
  }
 ],
 "metadata": {
  "colab": {
   "authorship_tag": "ABX9TyPDY7ldQQFCASuZAHySxia8",
   "name": " Prepreprocess Method 3: [FILL NAME].ipynb",
   "provenance": []
  },
  "kernelspec": {
   "display_name": "Python 3",
   "language": "python",
   "name": "python3"
  },
  "language_info": {
   "codemirror_mode": {
    "name": "ipython",
    "version": 3
   },
   "file_extension": ".py",
   "mimetype": "text/x-python",
   "name": "python",
   "nbconvert_exporter": "python",
   "pygments_lexer": "ipython3",
   "version": "3.8.8"
  }
 },
 "nbformat": 4,
 "nbformat_minor": 4
}
