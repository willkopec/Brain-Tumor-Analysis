{
 "cells": [
  {
   "cell_type": "code",
   "execution_count": null,
   "metadata": {
    "id": "1Spsz5Q1I1S0"
   },
   "outputs": [],
   "source": [
    "####################################\n",
    "# Connects to google drive\n",
    "from google.colab import drive\n",
    "drive.mount('/content/gdrive')"
   ]
  },
  {
   "cell_type": "code",
   "execution_count": null,
   "metadata": {
    "id": "nBAY9_-6I34B"
   },
   "outputs": [],
   "source": [
    "from sklearn.metrics import accuracy_score\n",
    "from sklearn.metrics import precision_score\n",
    "from sklearn.metrics import recall_score\n",
    "from sklearn.metrics import f1_score\n",
    "from sklearn.metrics import cohen_kappa_score\n",
    "from sklearn.metrics import roc_auc_score\n",
    "\n",
    "import pickle\n",
    "import numpy as np\n",
    "\n",
    "PREDICTION_PATH = ''\n",
    "\n",
    "def analysis(predictions, labels):\n",
    "  acc = accuracy_score(predictions, labels)\n",
    "  precision = precision_score(predictions, labels, average = None)\n",
    "  recall = recall_score(predictions, labels, average = None)\n",
    "  f1 = f1_score(predictions, labels, average = None)\n",
    "  kappa = cohen_kappa_score(predictions, labels)\n",
    "\n",
    "  print('acc ', acc)\n",
    "  print('prec ', precision)\n",
    "  print('recall ', recall)\n",
    "  print('f1 ', f1)\n",
    "  print('kappa ', kappa)\n",
    "\n",
    "preprocessing_methods = ['/content/gdrive/MyDrive/CS 415 Project/Predictions/Vanilla_Results.pk1']\n",
    "\n",
    "if __name__ == '__main__':\n",
    "  for method in preprocessing_methods:\n",
    "    results = pickle.load(open(method, 'rb'))\n",
    "\n",
    "    predictions = np.array(results['predictions'])\n",
    "    predictions = np.argmax(predictions,axis=1)\n",
    "    labels = np.array(results['labels'])\n",
    "\n",
    "    print(method)\n",
    "    analysis(predictions, labels)\n",
    "    print('\\n' * 5)"
   ]
  }
 ],
 "metadata": {
  "colab": {
   "authorship_tag": "ABX9TyNLh0GftdisEzv4KAI9Dwxh",
   "name": "Statistical Analysis.ipynb",
   "provenance": []
  },
  "kernelspec": {
   "display_name": "Python 3",
   "language": "python",
   "name": "python3"
  },
  "language_info": {
   "codemirror_mode": {
    "name": "ipython",
    "version": 3
   },
   "file_extension": ".py",
   "mimetype": "text/x-python",
   "name": "python",
   "nbconvert_exporter": "python",
   "pygments_lexer": "ipython3",
   "version": "3.8.8"
  }
 },
 "nbformat": 4,
 "nbformat_minor": 4
}
